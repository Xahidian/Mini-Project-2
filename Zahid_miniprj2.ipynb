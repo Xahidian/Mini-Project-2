{
 "cells": [
  {
   "cell_type": "markdown",
   "id": "6064a9d9-a543-4110-bbff-a80302dec2c7",
   "metadata": {},
   "source": [
    "Part 1: Importing Libraries"
   ]
  },
  {
   "cell_type": "code",
   "execution_count": 1,
   "id": "a620928a-7912-4a50-ae45-e9701c2c90c5",
   "metadata": {},
   "outputs": [],
   "source": [
    "import pandas as pd\n",
    "from sklearn.model_selection import train_test_split\n",
    "from sklearn.feature_extraction.text import TfidfVectorizer, CountVectorizer\n",
    "from sklearn.linear_model import LogisticRegression\n",
    "from sklearn.naive_bayes import MultinomialNB\n",
    "from sklearn.metrics import classification_report, confusion_matrix, accuracy_score\n",
    "import matplotlib.pyplot as plt\n",
    "import seaborn as sns\n"
   ]
  },
  {
   "cell_type": "markdown",
   "id": "c49fd4d6-ee20-4c25-bc68-13d8a88eee4f",
   "metadata": {},
   "source": [
    "Part 2: Loading Data"
   ]
  },
  {
   "cell_type": "code",
   "execution_count": 2,
   "id": "82cbd7eb-2c0f-4180-b95a-9a21f891b578",
   "metadata": {},
   "outputs": [
    {
     "name": "stdout",
     "output_type": "stream",
     "text": [
      "   sentiment_label                                         tweet_text\n",
      "0                4  @elephantbird Hey dear, Happy Friday to You  A...\n",
      "1                4  Ughhh layin downnnn    Waiting for zeina to co...\n",
      "2                0  @greeniebach I reckon he'll play, even if he's...\n",
      "3                0              @vaLewee I know!  Saw it on the news!\n",
      "4                0  very sad that http://www.fabchannel.com/ has c...\n"
     ]
    }
   ],
   "source": [
    "def load_data(file_path):\n",
    "    \"\"\"Load data from a TSV file into a pandas DataFrame.\"\"\"\n",
    "    return pd.read_csv(file_path, delimiter='\\t')\n",
    "\n",
    "df = load_data('Sentiment140.tenPercent.sample.tweets.tsv')\n",
    "print(df.head())\n"
   ]
  },
  {
   "cell_type": "markdown",
   "id": "55b502b5-d087-45b4-9ddf-b09c8fd0df9f",
   "metadata": {},
   "source": [
    "Part 3: Splitting Data"
   ]
  },
  {
   "cell_type": "code",
   "execution_count": 3,
   "id": "c2ca4d3a-c68f-4c3d-b6c9-f8e297d57330",
   "metadata": {},
   "outputs": [],
   "source": [
    "def split_data(df):\n",
    "    \"\"\"Split data into training and testing sets.\"\"\"\n",
    "    return train_test_split(df['tweet_text'], df['sentiment_label'], test_size=0.2, random_state=42)\n",
    "\n",
    "X_train, X_test, y_train, y_test = split_data(df)\n"
   ]
  },
  {
   "cell_type": "markdown",
   "id": "fb103ca1-afb8-4589-8cc7-e8d805f483ff",
   "metadata": {},
   "source": [
    "Part 4: Transforming Data"
   ]
  },
  {
   "cell_type": "code",
   "execution_count": 4,
   "id": "ec730144-e4a2-4162-9e11-ee7b2f0f8f92",
   "metadata": {},
   "outputs": [],
   "source": [
    "def transform_data(X_train, X_test):\n",
    "    \"\"\"Transform text data into numerical vectors using TF-IDF and Bag of Words.\"\"\"\n",
    "    tfidf_vectorizer = TfidfVectorizer()\n",
    "    X_train_tfidf = tfidf_vectorizer.fit_transform(X_train)\n",
    "    X_test_tfidf = tfidf_vectorizer.transform(X_test)\n",
    "\n",
    "    bow_vectorizer = CountVectorizer()\n",
    "    X_train_bow = bow_vectorizer.fit_transform(X_train)\n",
    "    X_test_bow = bow_vectorizer.transform(X_test)\n",
    "\n",
    "    return X_train_tfidf, X_test_tfidf, X_train_bow, X_test_bow\n",
    "\n",
    "X_train_tfidf, X_test_tfidf, X_train_bow, X_test_bow = transform_data(X_train, X_test)\n"
   ]
  },
  {
   "cell_type": "markdown",
   "id": "8aa3eae1-de47-47a7-baab-3bb5d50e3a34",
   "metadata": {},
   "source": [
    "Part 5: Training Models"
   ]
  },
  {
   "cell_type": "code",
   "execution_count": 5,
   "id": "35c23ea4-2a01-4972-a446-8a474e6ad5ef",
   "metadata": {},
   "outputs": [
    {
     "name": "stderr",
     "output_type": "stream",
     "text": [
      "/opt/conda/lib/python3.10/site-packages/sklearn/linear_model/_logistic.py:444: ConvergenceWarning: lbfgs failed to converge (status=1):\n",
      "STOP: TOTAL NO. of ITERATIONS REACHED LIMIT.\n",
      "\n",
      "Increase the number of iterations (max_iter) or scale the data as shown in:\n",
      "    https://scikit-learn.org/stable/modules/preprocessing.html\n",
      "Please also refer to the documentation for alternative solver options:\n",
      "    https://scikit-learn.org/stable/modules/linear_model.html#logistic-regression\n",
      "  n_iter_i = _check_optimize_result(\n"
     ]
    }
   ],
   "source": [
    "def train_models(X_train_tfidf, y_train, X_train_bow):\n",
    "    \"\"\"Train Logistic Regression and Naive Bayes models.\"\"\"\n",
    "    lr_model = LogisticRegression()\n",
    "    lr_model.fit(X_train_tfidf, y_train)\n",
    "\n",
    "    nb_model = MultinomialNB()\n",
    "    nb_model.fit(X_train_bow, y_train)\n",
    "\n",
    "    return lr_model, nb_model\n",
    "\n",
    "lr_model, nb_model = train_models(X_train_tfidf, y_train, X_train_bow)\n"
   ]
  },
  {
   "cell_type": "markdown",
   "id": "07f2c97e-7437-42d3-9d0e-4813d3744a56",
   "metadata": {},
   "source": [
    "Part 6: Making Predictions"
   ]
  },
  {
   "cell_type": "code",
   "execution_count": 6,
   "id": "bc8b8ad5-adc9-418b-9806-a41a2d1c759d",
   "metadata": {},
   "outputs": [],
   "source": [
    "def make_predictions(lr_model, nb_model, X_test_tfidf, X_test_bow):\n",
    "    \"\"\"Make predictions on the test set.\"\"\"\n",
    "    lr_y_pred = lr_model.predict(X_test_tfidf)\n",
    "    nb_y_pred = nb_model.predict(X_test_bow)\n",
    "    return lr_y_pred, nb_y_pred\n",
    "\n",
    "lr_y_pred, nb_y_pred = make_predictions(lr_model, nb_model, X_test_tfidf, X_test_bow)\n"
   ]
  },
  {
   "cell_type": "markdown",
   "id": "872c649b-9c31-4b98-bf75-8ffefc00605d",
   "metadata": {},
   "source": [
    "Part 7: Evaluating Models"
   ]
  },
  {
   "cell_type": "code",
   "execution_count": 7,
   "id": "a22870cf-1fdb-45af-a637-854c4e7e6b94",
   "metadata": {},
   "outputs": [
    {
     "name": "stdout",
     "output_type": "stream",
     "text": [
      "Logistic Regression Classification Report\n",
      "              precision    recall  f1-score   support\n",
      "\n",
      "           0       0.79      0.78      0.78     16002\n",
      "           4       0.78      0.79      0.79     15998\n",
      "\n",
      "    accuracy                           0.79     32000\n",
      "   macro avg       0.79      0.79      0.79     32000\n",
      "weighted avg       0.79      0.79      0.79     32000\n",
      "\n",
      "Naive Bayes Classification Report\n",
      "              precision    recall  f1-score   support\n",
      "\n",
      "           0       0.74      0.82      0.78     16002\n",
      "           4       0.80      0.72      0.75     15998\n",
      "\n",
      "    accuracy                           0.77     32000\n",
      "   macro avg       0.77      0.77      0.77     32000\n",
      "weighted avg       0.77      0.77      0.77     32000\n",
      "\n",
      "Logistic Regression Accuracy: 78.60000000000001 %\n",
      "Naive Bayes Accuracy: 76.62187499999999 %\n"
     ]
    }
   ],
   "source": [
    "def evaluate_models(y_test, lr_y_pred, nb_y_pred):\n",
    "    \"\"\"Evaluate models and print classification reports.\"\"\"\n",
    "\n",
    "    print(\"Logistic Regression Classification Report\")\n",
    "    print(classification_report(y_test, lr_y_pred))\n",
    "\n",
    "    print(\"Naive Bayes Classification Report\")\n",
    "    print(classification_report(y_test, nb_y_pred))\n",
    "    \n",
    "    print(\"Logistic Regression Accuracy:\", accuracy_score(y_test, lr_y_pred)*100,\"%\")\n",
    "    print(\"Naive Bayes Accuracy:\", accuracy_score(y_test, nb_y_pred)*100,\"%\")\n",
    "\n",
    "evaluate_models(y_test, lr_y_pred, nb_y_pred)\n"
   ]
  },
  {
   "cell_type": "markdown",
   "id": "10fd7800-d80a-461e-b8f5-6302aa1f66d9",
   "metadata": {},
   "source": [
    "Part 8: Visualizing Confusion Matrices"
   ]
  },
  {
   "cell_type": "code",
   "execution_count": 8,
   "id": "2556b52c-a465-460c-9b00-aef068c57262",
   "metadata": {},
   "outputs": [
    {
     "data": {
      "image/png": "[encoded data removed]",
      "text/plain": [
       "<Figure size 1200x600 with 4 Axes>"
      ]
     },
     "metadata": {},
     "output_type": "display_data"
    }
   ],
   "source": [
    "def plot_confusion_matrices(y_test, lr_y_pred, nb_y_pred):\n",
    "    \"\"\"Plot confusion matrices for Logistic Regression and Naive Bayes.\"\"\"\n",
    "    fig, ax = plt.subplots(1, 2, figsize=(12, 6))\n",
    "\n",
    "    lr_cm = confusion_matrix(y_test, lr_y_pred)\n",
    "    sns.heatmap(lr_cm, annot=True, fmt='d', ax=ax[0])\n",
    "    ax[0].set_title('Confusion Matrix for Logistic Regression')\n",
    "    ax[0].set_xlabel('Predicted')\n",
    "    ax[0].set_ylabel('Actual')\n",
    "\n",
    "    nb_cm = confusion_matrix(y_test, nb_y_pred)\n",
    "    sns.heatmap(nb_cm, annot=True, fmt='d', ax=ax[1])\n",
    "    ax[1].set_title('Confusion Matrix for Naive Bayes')\n",
    "    ax[1].set_xlabel('Predicted')\n",
    "    ax[1].set_ylabel('Actual')\n",
    "\n",
    "    plt.show()\n",
    "\n",
    "plot_confusion_matrices(y_test, lr_y_pred, nb_y_pred)\n"
   ]
  }
 ],
 "metadata": {
  "kernelspec": {
   "display_name": "Python 3 (ipykernel)",
   "language": "python",
   "name": "python3"
  },
  "language_info": {
   "codemirror_mode": {
    "name": "ipython",
    "version": 3
   },
   "file_extension": ".py",
   "mimetype": "text/x-python",
   "name": "python",
   "nbconvert_exporter": "python",
   "pygments_lexer": "ipython3",
   "version": "3.10.6"
  }
 },
 "nbformat": 4,
 "nbformat_minor": 5
}
